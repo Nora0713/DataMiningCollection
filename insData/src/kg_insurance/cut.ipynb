{
 "cells": [
  {
   "cell_type": "code",
   "execution_count": 3,
   "metadata": {},
   "outputs": [],
   "source": [
    "import pandas as pd\n",
    "\n",
    "data=pd.read_csv('medicare_cleaned_once.csv')\n",
    "cut_numeral=['填写时长','缴费方式_最低保金要求','保险人不同意续保下','续保_宽限期','续保_可续保年龄上限','无保险事故优惠_事故次数','保险事故通知时间_通知时间','保险事故通知时间_合作医院通知时间','合同终止与满期之间间隔限制_间隔','预授权_紧急情况通知时间','保单备案时间']\n",
    "cut_numeral_list=['投保范围_开始年龄结束年龄','保险期间','等待期','缴费方式_最低保费要求','保单年度内累计最高给付日','每日给付限额','住院及手术医疗保险金_有社保的给付比例','住院及手术医疗保险金_无社保的给付比例','住院及手术医疗保险金_医院类型给付比例的集合','门诊医疗保险金_有社保的给付比例','门诊医疗保险金_无社保的给付比例','门诊医疗保险金_年度给付限额','无保险事故优惠_优惠折扣','合作医院_合作医院支付比例','未及时核定补偿_不及时的标准']\n",
    "cut_discret=['缴费方式_是否有最低保费和最低保金要求','住院及手术医疗保险金_是无社保给付比例是否是区别','门诊医疗保险金_是无社保给付比例是否是区别','是否存在保额提升情况_单项','是否存在保额提升情况_是否有多次给付给付次数','责任免除_是否有退还','续保_是否有等待期','续保_是否需要体检','续保_是否承诺续保','续保_是否有自动续保','无保险事故优惠_是否有优惠','保险费率的调整','合同终止与满期之间间隔限制_是否有间隔限制','合作医院_是无有合作医院','预授权_是否有预授权','预授权_需要通知时间','未及时核定补偿_是否是补偿','未及时核定补偿_延迟利息','险种转换_单项','险种转换_险种规定集合','险种转换_转换后是有等待期','险种转换_等待期','险种转换_允许转换的时间','自动垫交保险费']\n",
    "cut_discret_list=['缴费方式_交费方式集合']\n",
    "cut_text_list=['投保范围_投保人符合条件集合','保险责任_保险责任集合','保险责任_医院和病房限制条件集合','住院费用和门诊费用的范围','责任免除_免除范围集合','责任免除_退还条件集合','合作医院_合作医院集合','预授权_预授权限制范围集合']\n",
    "cut_dict=['住院及手术医疗保险金_年度给付限额','门诊医疗保险金_医院类型给付比例的集合']\n",
    "cut_expr=['责任免除_退还金可能格式','合同终止与满期之间间隔限制_扣除比例','预授权_未通知给付比例']\n",
    "\n",
    "data[cut_numeral].to_csv('cut/cut_medicare/cut_numeral.csv',index=False,encoding='utf-8')\n",
    "data[cut_numeral_list].to_csv('cut/cut_medicare/cut_numeral_list.csv',index=False,encoding='utf-8')\n",
    "data[cut_discret].to_csv('cut/cut_medicare/cut_discret.csv',index=False,encoding='utf-8')\n",
    "data[cut_discret_list].to_csv('cut/cut_medicare/cut_discret_list.csv',index=False,encoding='utf-8')\n",
    "data[cut_text_list].to_csv('cut/cut_medicare/cut_text_list.csv',index=False,encoding='utf-8')\n",
    "data[cut_dict].to_csv('cut/cut_medicare/cut_dict.csv',index=False,encoding='utf-8')\n",
    "data[cut_expr].to_csv('cut/cut_medicare/cut_expr.csv',index=False,encoding='utf-8')"
   ]
  },
  {
   "cell_type": "code",
   "execution_count": 4,
   "metadata": {},
   "outputs": [],
   "source": [
    "data=pd.read_csv('disease_cleaned_once.csv')\n",
    "cut_numeral=['填写时长','身故保险金_给付时间','犹豫期_时间长度','犹豫期_工本费大小','续保_宽限期','续保_可续保年龄上限','宽限期','保单贷款政策_可贷款最长期限','退保_解除合同_退还时长','首个重大疾病保险金给付日','保单备案时间']\n",
    "cut_numeral_list=['投保范围_开始年龄结束年龄','保险期间','重大疾病保险金给付日_时间长度']\n",
    "cut_discret=['重大疾病保险金_是否有多次给付','是否有多次给付_单项','犹豫期_工本费','责任免除_是否有退还','续保_是否有等待期','续保_是否需要体检','续保_是否承诺续保','续保_是否有自动续保','缴费方式_是否有最低保费和最低保金要求','缴费方式_最低保费要求','缴费方式_最低保金要求','重大疾病保险金给付日_是否立即给付','给付总额的保证_单项','给付总额的保证_比例','基本保险金额的变更_单项','基本保险金额的变更_是否需要支付费用','基本保险金额的变更_不可变更保金的条件范围集合','基本保险金额的变更_保金可变更范围','保险费率的调整','保单贷款政策_是否可以贷款','保单贷款政策_是否可以未偿还完再增加贷款','保单贷款政策_政策复利间隔','自动垫交保险费']\n",
    "cut_discret_list=['交费方式_交费方式集合','保单贷款政策_计息方式']\n",
    "cut_text_list=['投保范围_投保人符合条件集合','重大疾病保险金_给付范围集合','重大疾病保险金_给付金','身故保险金_给付金','疾病的集合','责任免除_免除范围集合','责任免除_退还条件集合']\n",
    "cut_dict=['等待期','重大疾病保险金_给付数','重大疾病保险金_等待期','是否有多次给付_是否有多次给付给付次数','观察期']\n",
    "cut_expr=['重大疾病保险金_给付金可能格式','身故保险金_可能格式','责任免除_退还金可能格式','保单贷款政策_可贷款的最高金额','保单贷款政策_利率上限','退保_解除合同_退保返还金额','退保_解除合同_退保费用']\n",
    "data[cut_numeral].to_csv('cut/cut_disease/cut_numeral.csv',index=False,encoding='utf-8')\n",
    "data[cut_numeral_list].to_csv('cut/cut_disease/cut_numeral_list.csv',index=False,encoding='utf-8')\n",
    "data[cut_discret].to_csv('cut/cut_disease/cut_discret.csv',index=False,encoding='utf-8')\n",
    "data[cut_discret_list].to_csv('cut/cut_disease/cut_discret_list.csv',index=False,encoding='utf-8')\n",
    "data[cut_text_list].to_csv('cut/cut_disease/cut_text_list.csv',index=False,encoding='utf-8')\n",
    "data[cut_dict].to_csv('cut/cut_disease/cut_dict.csv',index=False,encoding='utf-8')\n",
    "data[cut_expr].to_csv('cut/cut_disease/cut_expr.csv',index=False,encoding='utf-8')"
   ]
  },
  {
   "cell_type": "code",
   "execution_count": null,
   "metadata": {},
   "outputs": [],
   "source": []
  }
 ],
 "metadata": {
  "kernelspec": {
   "display_name": "Python 3",
   "language": "python",
   "name": "python3"
  },
  "language_info": {
   "codemirror_mode": {
    "name": "ipython",
    "version": 3
   },
   "file_extension": ".py",
   "mimetype": "text/x-python",
   "name": "python",
   "nbconvert_exporter": "python",
   "pygments_lexer": "ipython3",
   "version": "3.6.6"
  }
 },
 "nbformat": 4,
 "nbformat_minor": 2
}
